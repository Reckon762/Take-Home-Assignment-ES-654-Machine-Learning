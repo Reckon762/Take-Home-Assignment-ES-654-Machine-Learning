{
  "nbformat": 4,
  "nbformat_minor": 0,
  "metadata": {
    "colab": {
      "provenance": []
    },
    "kernelspec": {
      "name": "python3",
      "display_name": "Python 3"
    },
    "language_info": {
      "name": "python"
    }
  },
  "cells": [
    {
      "cell_type": "code",
      "execution_count": 19,
      "metadata": {
        "id": "YRlmC80fs44J"
      },
      "outputs": [],
      "source": [
        "import numpy as np\n",
        "import matplotlib.pyplot as plt\n",
        "import pandas as pd \n",
        "import math\n",
        "import time"
      ]
    },
    {
      "cell_type": "markdown",
      "source": [
        "**Question 1**\n",
        "\n",
        "We have matrices of size (n, k) and (k, m).\n",
        "\n",
        "If we mutltiply matrix by row x column multiplication, the elements of resultant matrix can be calculated as:\n",
        "\n",
        "Each element of resultant will be obtained by k multiplications followed by addition of these k multiplications.\n",
        "Therefore, for each element of the resultant matrix, there will be k multiplications and k-1 additions.\n",
        "\n",
        "The size of the resultant matrix will be (n,m).\n",
        "\n",
        "Thus, the total number of multiplications will be **n*m*k**\n",
        "\n",
        "and the total number of additions will be **n*m*(k-1)**\n",
        "\n"
      ],
      "metadata": {
        "id": "Nw_AMfj2QM5o"
      }
    },
    {
      "cell_type": "markdown",
      "source": [
        "**Question 2**"
      ],
      "metadata": {
        "id": "qlTjP3VynUf1"
      }
    },
    {
      "cell_type": "code",
      "source": [
        "# Matrix multiplication\n",
        "\n",
        "m1 = np.ones((6,8)) # Matrix of 6 rows and 8 columns\n",
        "m2 = np.ones((8,7)) # Matrix of 8 rows adn 7 columns\n",
        "print(m1)\n",
        "print(m2)"
      ],
      "metadata": {
        "colab": {
          "base_uri": "https://localhost:8080/"
        },
        "id": "5KlYR0jKnTxh",
        "outputId": "53c7f1dc-2e1d-4f64-bd26-08654a4d5acb"
      },
      "execution_count": 20,
      "outputs": [
        {
          "output_type": "stream",
          "name": "stdout",
          "text": [
            "[[1. 1. 1. 1. 1. 1. 1. 1.]\n",
            " [1. 1. 1. 1. 1. 1. 1. 1.]\n",
            " [1. 1. 1. 1. 1. 1. 1. 1.]\n",
            " [1. 1. 1. 1. 1. 1. 1. 1.]\n",
            " [1. 1. 1. 1. 1. 1. 1. 1.]\n",
            " [1. 1. 1. 1. 1. 1. 1. 1.]]\n",
            "[[1. 1. 1. 1. 1. 1. 1.]\n",
            " [1. 1. 1. 1. 1. 1. 1.]\n",
            " [1. 1. 1. 1. 1. 1. 1.]\n",
            " [1. 1. 1. 1. 1. 1. 1.]\n",
            " [1. 1. 1. 1. 1. 1. 1.]\n",
            " [1. 1. 1. 1. 1. 1. 1.]\n",
            " [1. 1. 1. 1. 1. 1. 1.]\n",
            " [1. 1. 1. 1. 1. 1. 1.]]\n"
          ]
        }
      ]
    },
    {
      "cell_type": "code",
      "source": [
        "start = time.time()\n",
        "res = np.zeros((6,7))\n",
        "\n",
        "for i in range(len(m1)):\n",
        "    for j in range(len(m2[0])):\n",
        "        for k in range(len(m2)):\n",
        "            res[i][j] += m1[i][k]*m2[k][j]\n",
        "print (res)\n",
        "end = time.time()\n",
        "print(\"Time executed:\",(end-start) * 10**3, \"ms\")"
      ],
      "metadata": {
        "colab": {
          "base_uri": "https://localhost:8080/"
        },
        "id": "R58KgDs4tyi9",
        "outputId": "6b1804e5-25f8-4255-d72c-09c5a7ad5861"
      },
      "execution_count": 21,
      "outputs": [
        {
          "output_type": "stream",
          "name": "stdout",
          "text": [
            "[[8. 8. 8. 8. 8. 8. 8.]\n",
            " [8. 8. 8. 8. 8. 8. 8.]\n",
            " [8. 8. 8. 8. 8. 8. 8.]\n",
            " [8. 8. 8. 8. 8. 8. 8.]\n",
            " [8. 8. 8. 8. 8. 8. 8.]\n",
            " [8. 8. 8. 8. 8. 8. 8.]]\n",
            "Time executed: 4.075288772583008 ms\n"
          ]
        }
      ]
    },
    {
      "cell_type": "code",
      "source": [
        "# Multiplication using numpy\n",
        "start = time.time()\n",
        "res = np.dot(m1,m2)\n",
        "print(res)\n",
        "end = time.time()\n",
        "print(\"Time executed:\",(end-start) * 10**3, \"ms\")"
      ],
      "metadata": {
        "colab": {
          "base_uri": "https://localhost:8080/"
        },
        "id": "VCMVYpLFoTru",
        "outputId": "676e38c6-2b86-48cd-b709-282d3b02a37f"
      },
      "execution_count": 22,
      "outputs": [
        {
          "output_type": "stream",
          "name": "stdout",
          "text": [
            "[[8. 8. 8. 8. 8. 8. 8.]\n",
            " [8. 8. 8. 8. 8. 8. 8.]\n",
            " [8. 8. 8. 8. 8. 8. 8.]\n",
            " [8. 8. 8. 8. 8. 8. 8.]\n",
            " [8. 8. 8. 8. 8. 8. 8.]\n",
            " [8. 8. 8. 8. 8. 8. 8.]]\n",
            "Time executed: 0.7433891296386719 ms\n"
          ]
        }
      ]
    },
    {
      "cell_type": "markdown",
      "source": [
        "We can see that muatrix multiplication with numpy is faster."
      ],
      "metadata": {
        "id": "KYammfkDvtUt"
      }
    },
    {
      "cell_type": "markdown",
      "source": [
        "**Question 3**\n",
        "\n",
        "Max element in an unsorted array can be found out in a single pass by simply comparing the values while iterating the array and continuously udpating the max value. The value present in the end the will be the max element.\n",
        "\n",
        "Similarly, the second highest element in an unsorted array can be found in two passes in which the first pass will give the max element in the array and the second pass will output the second max element."
      ],
      "metadata": {
        "id": "snebCWll2VBw"
      }
    },
    {
      "cell_type": "code",
      "source": [
        "# Finding max element of an unsorted array in one pass\n",
        "def find_max(arr):\n",
        "  max_ele = 0\n",
        "  for i in arr:\n",
        "    if(i > max_ele):\n",
        "      max_ele = i\n",
        "  return max_ele\n",
        "\n",
        "arr = [3,5,2,3,4,9,7,8,0,1]\n",
        "print(find_max(arr))"
      ],
      "metadata": {
        "colab": {
          "base_uri": "https://localhost:8080/"
        },
        "id": "WadkonMG2cu0",
        "outputId": "b7911b17-e626-479a-e791-680731041f92"
      },
      "execution_count": 23,
      "outputs": [
        {
          "output_type": "stream",
          "name": "stdout",
          "text": [
            "9\n"
          ]
        }
      ]
    },
    {
      "cell_type": "code",
      "source": [
        "# Finding second max element of an unsorted array in two pass\n",
        "def find_sec_max(arr):\n",
        "  max_ele = 0\n",
        "  for i in arr:\n",
        "    if(i > max_ele):\n",
        "      max_ele = i\n",
        "  sec_max = 0\n",
        "  for i in arr:\n",
        "    if(i > sec_max and i < max_ele):\n",
        "      sec_max = i\n",
        "  return sec_max\n",
        "arr = [3,5,2,3,4,9,7,8,0,1]\n",
        "print(find_sec_max(arr))"
      ],
      "metadata": {
        "colab": {
          "base_uri": "https://localhost:8080/"
        },
        "id": "7Qq-C7seFxHm",
        "outputId": "90b5b344-02d9-4f7b-fd65-7784450abe3b"
      },
      "execution_count": 24,
      "outputs": [
        {
          "output_type": "stream",
          "name": "stdout",
          "text": [
            "8\n"
          ]
        }
      ]
    },
    {
      "cell_type": "markdown",
      "source": [
        "Now, if we try to find the median of the unsorted array in this way, time complexity would be $$ {O(n^2)} $$\n",
        "\n",
        "The better method would be to first sort the array and then find the median. The time complexity of this method would be $$ {O(nlog(n))} $$\n",
        "\n"
      ],
      "metadata": {
        "id": "KMtNH8N_G9b3"
      }
    },
    {
      "cell_type": "code",
      "source": [
        "# Finding the median element using sort\n",
        "import time\n",
        "arr = [3,11,5,2,1,4,6,7,8]\n",
        "start = time.time()\n",
        "arr.sort()\n",
        "x = len(arr)\n",
        "if(x%2==1):\n",
        "  median_idx = (x + 1)//2 - 1\n",
        "  print(arr[median_idx])\n",
        "end = time.time()\n",
        "print(\"Time executed:\",(end-start) * 10**3, \"ms\")"
      ],
      "metadata": {
        "colab": {
          "base_uri": "https://localhost:8080/"
        },
        "id": "GysRbVNgNC24",
        "outputId": "9d9fad2f-80bb-4d3f-a817-97a9fa9d873b"
      },
      "execution_count": 25,
      "outputs": [
        {
          "output_type": "stream",
          "name": "stdout",
          "text": [
            "5\n",
            "Time executed: 0.17189979553222656 ms\n"
          ]
        }
      ]
    },
    {
      "cell_type": "code",
      "source": [
        "# Finding the median element using numpy\n",
        "import time\n",
        "arr = [3,11,5,2,1,4,6,7,8]\n",
        "start = time.time()\n",
        "print(np.median(arr))\n",
        "end = time.time()\n",
        "\n",
        "print(\"Time executed:\",(end-start) * 10**3, \"ms\")"
      ],
      "metadata": {
        "colab": {
          "base_uri": "https://localhost:8080/"
        },
        "id": "VhzZ6EAXIH1x",
        "outputId": "268a9e15-dae3-4e9c-94be-1c305a61b332"
      },
      "execution_count": 26,
      "outputs": [
        {
          "output_type": "stream",
          "name": "stdout",
          "text": [
            "5.0\n",
            "Time executed: 1.168966293334961 ms\n"
          ]
        }
      ]
    },
    {
      "cell_type": "markdown",
      "source": [
        "**Question 4**"
      ],
      "metadata": {
        "id": "RBhkB8kAwovp"
      }
    },
    {
      "cell_type": "markdown",
      "source": [
        "Given $$ {f(x,y) = x^2y + y^3sin(x)} $$\n",
        "\n",
        "The gradient with respect to x will be \n",
        "\n",
        "$$ {2xy+y^3\\cos(x)} $$\n",
        "\n",
        "Similarly, the gradient with respect to y will be\n",
        "$$ {x^2+3y^2\\sin (x)} $$"
      ],
      "metadata": {
        "id": "KJP_4SPU3Vkq"
      }
    },
    {
      "cell_type": "markdown",
      "source": [
        "**Question 5**"
      ],
      "metadata": {
        "id": "VVrMVVxzAAH7"
      }
    },
    {
      "cell_type": "code",
      "source": [
        "# Find gradient using JAX\n",
        "import jax\n",
        "import jax.numpy as jnp\n"
      ],
      "metadata": {
        "id": "VgcgERuoAF2w"
      },
      "execution_count": 27,
      "outputs": []
    },
    {
      "cell_type": "markdown",
      "source": [
        "**Question 6**"
      ],
      "metadata": {
        "id": "uECfByj88tJx"
      }
    },
    {
      "cell_type": "code",
      "source": [
        "# Finding gradient using symPy library\n",
        "from sympy import diff, sin\n",
        "from sympy.abc import x,y \n",
        "\n",
        "f = (x**2)*y + (y**3)*sin(x)\n",
        "grad_x = diff(f,x)\n",
        "grad_y = diff(f,y)\n",
        "print(grad_x)\n",
        "print(grad_y)\n",
        "\n",
        "# Reference: https://www.tutorialspoint.com/sympy/sympy_derivative.htm"
      ],
      "metadata": {
        "colab": {
          "base_uri": "https://localhost:8080/"
        },
        "id": "3Bzk8LAmxDNK",
        "outputId": "ed7b3085-3294-404d-98e2-ed32ac669312"
      },
      "execution_count": 28,
      "outputs": [
        {
          "output_type": "stream",
          "name": "stdout",
          "text": [
            "2*x*y + y**3*cos(x)\n",
            "x**2 + 3*y**2*sin(x)\n"
          ]
        }
      ]
    },
    {
      "cell_type": "markdown",
      "source": [
        "**Question 7**"
      ],
      "metadata": {
        "id": "1zebcSwntTZt"
      }
    },
    {
      "cell_type": "code",
      "source": [
        "Dict = {'2022': {'Branch 1':{'Roll NO':1,'Name':'N','Marks':{'Maths': 100,'English': 70}},\n",
        "                 'Branch 2': None},\n",
        "        '2023':{'Branch 1':None,'Branch 2':None},\n",
        "        '2024':{'Branch 1':None,'Branch 2':None},\n",
        "        '2025':{'Branch 1':None,'Branch 2':None},}\n",
        "print(Dict)"
      ],
      "metadata": {
        "colab": {
          "base_uri": "https://localhost:8080/"
        },
        "id": "sNMnb2zLtWV7",
        "outputId": "6821aef3-9373-47b2-e93f-1b743871ae11"
      },
      "execution_count": 29,
      "outputs": [
        {
          "output_type": "stream",
          "name": "stdout",
          "text": [
            "{'2022': {'Branch 1': {'Roll NO': 1, 'Name': 'N', 'Marks': {'Maths': 100, 'English': 70}}, 'Branch 2': None}, '2023': {'Branch 1': None, 'Branch 2': None}, '2024': {'Branch 1': None, 'Branch 2': None}, '2025': {'Branch 1': None, 'Branch 2': None}}\n"
          ]
        }
      ]
    },
    {
      "cell_type": "markdown",
      "source": [
        "**Question 9**\n"
      ],
      "metadata": {
        "id": "2xdIAyo5C5Zz"
      }
    },
    {
      "cell_type": "code",
      "source": [
        "# domain: x = 0.5 to 100.0 in steps of 0.5.\n",
        "# 200 points in domain\n",
        "x = np.linspace(0.5,100,200)\n",
        "print(x)"
      ],
      "metadata": {
        "id": "uaFpphy7tVxE",
        "colab": {
          "base_uri": "https://localhost:8080/"
        },
        "outputId": "c5b7bda6-5144-47ee-81d8-b6bf71e761a5"
      },
      "execution_count": 30,
      "outputs": [
        {
          "output_type": "stream",
          "name": "stdout",
          "text": [
            "[  0.5   1.    1.5   2.    2.5   3.    3.5   4.    4.5   5.    5.5   6.\n",
            "   6.5   7.    7.5   8.    8.5   9.    9.5  10.   10.5  11.   11.5  12.\n",
            "  12.5  13.   13.5  14.   14.5  15.   15.5  16.   16.5  17.   17.5  18.\n",
            "  18.5  19.   19.5  20.   20.5  21.   21.5  22.   22.5  23.   23.5  24.\n",
            "  24.5  25.   25.5  26.   26.5  27.   27.5  28.   28.5  29.   29.5  30.\n",
            "  30.5  31.   31.5  32.   32.5  33.   33.5  34.   34.5  35.   35.5  36.\n",
            "  36.5  37.   37.5  38.   38.5  39.   39.5  40.   40.5  41.   41.5  42.\n",
            "  42.5  43.   43.5  44.   44.5  45.   45.5  46.   46.5  47.   47.5  48.\n",
            "  48.5  49.   49.5  50.   50.5  51.   51.5  52.   52.5  53.   53.5  54.\n",
            "  54.5  55.   55.5  56.   56.5  57.   57.5  58.   58.5  59.   59.5  60.\n",
            "  60.5  61.   61.5  62.   62.5  63.   63.5  64.   64.5  65.   65.5  66.\n",
            "  66.5  67.   67.5  68.   68.5  69.   69.5  70.   70.5  71.   71.5  72.\n",
            "  72.5  73.   73.5  74.   74.5  75.   75.5  76.   76.5  77.   77.5  78.\n",
            "  78.5  79.   79.5  80.   80.5  81.   81.5  82.   82.5  83.   83.5  84.\n",
            "  84.5  85.   85.5  86.   86.5  87.   87.5  88.   88.5  89.   89.5  90.\n",
            "  90.5  91.   91.5  92.   92.5  93.   93.5  94.   94.5  95.   95.5  96.\n",
            "  96.5  97.   97.5  98.   98.5  99.   99.5 100. ]\n"
          ]
        }
      ]
    },
    {
      "cell_type": "code",
      "source": [
        "plt.figure(figsize=(16, 8))\n",
        "\n",
        "# 1. y = x\n",
        "y = x\n",
        "plt.subplot(2,4,1)\n",
        "plt.plot(x,y, 'blue')\n",
        "plt.ylabel(\"x\")\n",
        "\n",
        "# 2. y = x^2\n",
        "y = x**2\n",
        "plt.subplot(2,4,2)\n",
        "plt.plot(x,y, 'blue')\n",
        "plt.ylabel(\"x^2\")\n",
        "\n",
        "# 3. y = (x^3)/100\n",
        "y = (x**3)/100\n",
        "plt.subplot(2,4,3)\n",
        "plt.plot(x,y, 'blue')\n",
        "plt.ylabel(\"(x^3)/100\")\n",
        "\n",
        "# 4. y = sin(x)\n",
        "y = np.sin(x)\n",
        "plt.subplot(2,4,4)\n",
        "plt.plot(x,y, 'blue')\n",
        "plt.ylabel(\"sin(x)\")\n",
        "\n",
        "# 5. y = sin(x)/x\n",
        "y = np.sin(x)/x\n",
        "plt.subplot(2,4,5)\n",
        "plt.plot(x,y, 'blue')\n",
        "plt.ylabel(\"sin(x)/x\")\n",
        "\n",
        "# 6. y = log(x)\n",
        "y = np.log(x)\n",
        "plt.subplot(2,4,6)\n",
        "plt.plot(x,y, 'blue')\n",
        "plt.ylabel(\"log(x)\")\n",
        "\n",
        "# 6. y = e^x\n",
        "y = np.exp(x)\n",
        "plt.subplot(2,4,7)\n",
        "plt.plot(x,y, 'blue')\n",
        "plt.ylabel(\"e^x\")\n",
        "\n",
        "plt.tight_layout()\n",
        "plt.show()"
      ],
      "metadata": {
        "colab": {
          "base_uri": "https://localhost:8080/",
          "height": 585
        },
        "id": "sVlTeMbZDr9I",
        "outputId": "72cf5825-e5ed-45bc-e280-af4912d33216"
      },
      "execution_count": 31,
      "outputs": [
        {
          "output_type": "display_data",
          "data": {
            "text/plain": [
              "<Figure size 1152x576 with 7 Axes>"
            ],
            "image/png": "[encoded data removed]"
          },
          "metadata": {
            "needs_background": "light"
          }
        }
      ]
    },
    {
      "cell_type": "markdown",
      "source": [
        "**Question 10**"
      ],
      "metadata": {
        "id": "LxNtxwSGK1dj"
      }
    },
    {
      "cell_type": "code",
      "source": [
        "# Numpy matrix of size 20x5\n",
        "mat = np.random.uniform(1,2,(20,5))\n",
        "print(mat,'\\n')\n",
        "\n",
        "# Dataframe with five columns a,b,c,d,e\n",
        "col = ['a','b','c','d','e']\n",
        "df = pd.DataFrame(mat, columns =col)\n",
        "print(df,'\\n')\n",
        "\n",
        "# Finding column with maximum standard deviation\n",
        "max_std = 0\n",
        "col_name = ''\n",
        "for i in col:\n",
        "  std_col = df[i].std()\n",
        "  if(std_col > max_std):\n",
        "    max_std = std_col\n",
        "    col_name = i\n",
        "print(\"Max column std:\",max_std,\" Column:\",col_name,'\\n')\n",
        "\n",
        "# Finding row with lowest mean\n",
        "mean = df.mean(axis = 1, skipna = True)\n",
        "min_mean = 100\n",
        "row = ''\n",
        "for i in range(len(mean)):\n",
        "  if(mean[i]<min_mean):\n",
        "    min_mean = mean[i]\n",
        "    row = i\n",
        "print(\"Min row mean:\",min_mean,\" Column:\",row,'\\n')"
      ],
      "metadata": {
        "colab": {
          "base_uri": "https://localhost:8080/"
        },
        "id": "CEPg2sUoK7Q6",
        "outputId": "cff1b2f7-14cc-4492-9af8-4d9e05da3b4a"
      },
      "execution_count": 32,
      "outputs": [
        {
          "output_type": "stream",
          "name": "stdout",
          "text": [
            "[[1.40477242 1.60736511 1.20859898 1.74443942 1.14524075]\n",
            " [1.32405594 1.93231895 1.51182912 1.88494241 1.25117329]\n",
            " [1.82848687 1.99005202 1.11875742 1.21240453 1.57785855]\n",
            " [1.92251158 1.7200476  1.97639405 1.6827407  1.55238749]\n",
            " [1.98884677 1.01560404 1.81336013 1.46924492 1.61516753]\n",
            " [1.51012364 1.67599804 1.9778076  1.52318217 1.85841942]\n",
            " [1.74110157 1.48694089 1.11572748 1.20493874 1.93182362]\n",
            " [1.40973653 1.63855801 1.43155289 1.36663218 1.16379396]\n",
            " [1.22323192 1.55838983 1.39323076 1.27564157 1.76184236]\n",
            " [1.01507324 1.4252998  1.30773534 1.95993585 1.42946354]\n",
            " [1.3280987  1.57036664 1.80155574 1.57444529 1.35793563]\n",
            " [1.70389373 1.69164998 1.93514192 1.68185634 1.25579404]\n",
            " [1.02944358 1.55883635 1.34606914 1.77902582 1.0638912 ]\n",
            " [1.17389523 1.80585362 1.85791456 1.66868638 1.32465324]\n",
            " [1.50472039 1.85208764 1.92246778 1.25244493 1.10547608]\n",
            " [1.66871081 1.61735628 1.68082805 1.67157697 1.63807922]\n",
            " [1.66134941 1.46440238 1.42013704 1.19681906 1.99734117]\n",
            " [1.094387   1.0798983  1.50935992 1.08932412 1.51539854]\n",
            " [1.40457371 1.63246235 1.94451085 1.71584642 1.3098994 ]\n",
            " [1.40827472 1.7611186  1.37198885 1.38907727 1.14424098]] \n",
            "\n",
            "           a         b         c         d         e\n",
            "0   1.404772  1.607365  1.208599  1.744439  1.145241\n",
            "1   1.324056  1.932319  1.511829  1.884942  1.251173\n",
            "2   1.828487  1.990052  1.118757  1.212405  1.577859\n",
            "3   1.922512  1.720048  1.976394  1.682741  1.552387\n",
            "4   1.988847  1.015604  1.813360  1.469245  1.615168\n",
            "5   1.510124  1.675998  1.977808  1.523182  1.858419\n",
            "6   1.741102  1.486941  1.115727  1.204939  1.931824\n",
            "7   1.409737  1.638558  1.431553  1.366632  1.163794\n",
            "8   1.223232  1.558390  1.393231  1.275642  1.761842\n",
            "9   1.015073  1.425300  1.307735  1.959936  1.429464\n",
            "10  1.328099  1.570367  1.801556  1.574445  1.357936\n",
            "11  1.703894  1.691650  1.935142  1.681856  1.255794\n",
            "12  1.029444  1.558836  1.346069  1.779026  1.063891\n",
            "13  1.173895  1.805854  1.857915  1.668686  1.324653\n",
            "14  1.504720  1.852088  1.922468  1.252445  1.105476\n",
            "15  1.668711  1.617356  1.680828  1.671577  1.638079\n",
            "16  1.661349  1.464402  1.420137  1.196819  1.997341\n",
            "17  1.094387  1.079898  1.509360  1.089324  1.515399\n",
            "18  1.404574  1.632462  1.944511  1.715846  1.309899\n",
            "19  1.408275  1.761119  1.371989  1.389077  1.144241 \n",
            "\n",
            "Max column std: 0.3002602665489919  Column: c \n",
            "\n",
            "Min row mean: 1.2576735782001964  Column: 17 \n",
            "\n"
          ]
        }
      ]
    },
    {
      "cell_type": "markdown",
      "source": [
        "**Question 11**"
      ],
      "metadata": {
        "id": "wE1sKMXWX444"
      }
    },
    {
      "cell_type": "code",
      "source": [
        "# Adding a sixth column f\n",
        "df['f'] = df['a'] + df['b'] + df['c'] + df['d'] + df['e']\n",
        "# print(df)\n",
        "\n",
        "# Adding seventh column g\n",
        "df['g'] = [\"LT8\" if x < 8 else \"GT8\" for x in df['f']]\n",
        "print(df)\n",
        "print('\\n')\n",
        "# Counting no. of rows with Less than 8 value\n",
        "count = 0\n",
        "for i in range(20):\n",
        "  if(df['g'][i]==\"LT8\"):\n",
        "    count+=1\n",
        "\n",
        "print(\"Number of rows with LT8:\",count)\n",
        "print('\\n')\n",
        "\n",
        "# finding standard deviation for the column f with row values LT8 and GT8 respectively\n",
        "df_LT8 = df[df['g']==\"LT8\"]\n",
        "df_GT8 = df[df['g']==\"GT8\"]\n",
        "std_LT8 = df_LT8['f'].std()\n",
        "std_GT8 = df_GT8['f'].std()\n",
        "print(\"Standard Deviation for rows with LT8:\",std_LT8)\n",
        "print(\"Standard Deviation for rows with GT8:\", std_GT8)"
      ],
      "metadata": {
        "colab": {
          "base_uri": "https://localhost:8080/"
        },
        "id": "a4X59dlrVoO_",
        "outputId": "30d0f9b9-456f-4608-e0d4-ac9e84ecea0b"
      },
      "execution_count": 33,
      "outputs": [
        {
          "output_type": "stream",
          "name": "stdout",
          "text": [
            "           a         b         c         d         e         f    g\n",
            "0   1.404772  1.607365  1.208599  1.744439  1.145241  7.110417  LT8\n",
            "1   1.324056  1.932319  1.511829  1.884942  1.251173  7.904320  LT8\n",
            "2   1.828487  1.990052  1.118757  1.212405  1.577859  7.727559  LT8\n",
            "3   1.922512  1.720048  1.976394  1.682741  1.552387  8.854081  GT8\n",
            "4   1.988847  1.015604  1.813360  1.469245  1.615168  7.902223  LT8\n",
            "5   1.510124  1.675998  1.977808  1.523182  1.858419  8.545531  GT8\n",
            "6   1.741102  1.486941  1.115727  1.204939  1.931824  7.480532  LT8\n",
            "7   1.409737  1.638558  1.431553  1.366632  1.163794  7.010274  LT8\n",
            "8   1.223232  1.558390  1.393231  1.275642  1.761842  7.212336  LT8\n",
            "9   1.015073  1.425300  1.307735  1.959936  1.429464  7.137508  LT8\n",
            "10  1.328099  1.570367  1.801556  1.574445  1.357936  7.632402  LT8\n",
            "11  1.703894  1.691650  1.935142  1.681856  1.255794  8.268336  GT8\n",
            "12  1.029444  1.558836  1.346069  1.779026  1.063891  6.777266  LT8\n",
            "13  1.173895  1.805854  1.857915  1.668686  1.324653  7.831003  LT8\n",
            "14  1.504720  1.852088  1.922468  1.252445  1.105476  7.637197  LT8\n",
            "15  1.668711  1.617356  1.680828  1.671577  1.638079  8.276551  GT8\n",
            "16  1.661349  1.464402  1.420137  1.196819  1.997341  7.740049  LT8\n",
            "17  1.094387  1.079898  1.509360  1.089324  1.515399  6.288368  LT8\n",
            "18  1.404574  1.632462  1.944511  1.715846  1.309899  8.007293  GT8\n",
            "19  1.408275  1.761119  1.371989  1.389077  1.144241  7.074700  LT8\n",
            "\n",
            "\n",
            "Number of rows with LT8: 15\n",
            "\n",
            "\n",
            "Standard Deviation for rows with LT8: 0.469211051892323\n",
            "Standard Deviation for rows with GT8: 0.32159693485914803\n"
          ]
        }
      ]
    },
    {
      "cell_type": "markdown",
      "source": [
        "**Question 12**"
      ],
      "metadata": {
        "id": "zPCdqHBOcOcX"
      }
    },
    {
      "cell_type": "code",
      "source": [
        "# Brodcasting\n",
        "a = np.array([0, 1, 2])\n",
        "b = np.array([2, 2, 2])\n",
        "print(a + b)\n",
        "\n",
        "print(a+2)\n",
        "\n",
        "# Broadcasting helps in performing binary operation on two arrays of different sizes"
      ],
      "metadata": {
        "colab": {
          "base_uri": "https://localhost:8080/"
        },
        "id": "55vhoWbwcUjP",
        "outputId": "0b1a5b6a-9f49-4c27-e710-3a3c2b87811e"
      },
      "execution_count": 34,
      "outputs": [
        {
          "output_type": "stream",
          "name": "stdout",
          "text": [
            "[2 3 4]\n",
            "[2 3 4]\n"
          ]
        }
      ]
    },
    {
      "cell_type": "markdown",
      "source": [
        "**Question 13**"
      ],
      "metadata": {
        "id": "vDcOgbeYfhdJ"
      }
    },
    {
      "cell_type": "code",
      "source": [
        "# function to find the index of minimum element in an 1D array\n",
        "\n",
        "def minarg(arr):\n",
        "  index = 0\n",
        "  min_ele = max(arr)\n",
        "  for i in range(len(arr)):\n",
        "    if(arr[i]<min_ele):\n",
        "      min_ele = arr[i]\n",
        "      index = i\n",
        "  return index\n",
        "\n",
        "x = np.array([2,3,6,4,5])\n",
        "print(minarg(x))\n",
        "\n",
        "print(np.argmin(x))"
      ],
      "metadata": {
        "colab": {
          "base_uri": "https://localhost:8080/"
        },
        "id": "I10yHL9BfkSV",
        "outputId": "2fb55741-7482-463c-d600-ed39ec3f8272"
      },
      "execution_count": 35,
      "outputs": [
        {
          "output_type": "stream",
          "name": "stdout",
          "text": [
            "0\n",
            "0\n"
          ]
        }
      ]
    }
  ]
}